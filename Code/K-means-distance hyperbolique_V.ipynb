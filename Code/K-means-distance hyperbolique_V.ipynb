{
 "cells": [
  {
   "cell_type": "code",
   "execution_count": 5,
   "metadata": {},
   "outputs": [],
   "source": [
    "import numpy as np\n",
    "import pandas as pd\n",
    "from datetime import datetime as dt\n",
    "import matplotlib.pyplot as plt\n",
    "%matplotlib inline  \n",
    "import math"
   ]
  },
  {
   "cell_type": "markdown",
   "metadata": {},
   "source": [
    "# Distance hyperbolique"
   ]
  },
  {
   "cell_type": "code",
   "execution_count": 13,
   "metadata": {},
   "outputs": [],
   "source": [
    "def arcosh(x):\n",
    "    return np.log(x+math.sqrt(x**2-1))"
   ]
  },
  {
   "cell_type": "code",
   "execution_count": 447,
   "metadata": {},
   "outputs": [],
   "source": [
    "\"\"\"def distance_hyper(coor1,coor2):\n",
    "    t=2*coor1[2]*coor2[2]\n",
    "    #print(1+((((coor1[0]-coor2[0])**2)+((coor1[1]-coor2[1])**2))/t)+(((coor1[2]-coor2[2])**2)/t))\n",
    "    return arcosh(1+((((coor1[0]-coor2[0])**2)+((coor1[1]-coor2[1])**2))/t)+(((coor1[2]-coor2[2])**2)/t))\n",
    "\"\"\"\n",
    "\"\"\"def distance_hyper(coor1,coor2):\n",
    "    t=2*coor1[2]*coor2[2]\n",
    "    d=(((coor1[0]-coor2[0])**2)+((coor1[1]-coor2[1])**2))\n",
    "    \n",
    "    #comp=((coor2[2]/coor1[2])+(coor1[2]/coor2[2]))/(d*2)   \n",
    "    comp=(coor1[2]-coor2[2])**2\n",
    "    print(t)\n",
    "    return arcosh(1+(d/t)+(comp/(t)))\"\"\"\n",
    "\n",
    "def distance_hyper2(coor1,coor2):\n",
    "    t=2*coor1[2]*coor2[2]\n",
    "    d=(((coor1[0]-coor2[0])**2)+((coor1[1]-coor2[1])**2))\n",
    "    \n",
    "    #comp=((coor2[2]/coor1[2])+(coor1[2]/coor2[2]))/(d*2)   \n",
    "    comp=(coor1[2]-coor2[2])**2\n",
    "    return arcosh(1+(d/t)+(comp/(t*d)))\n",
    "\n",
    "def distance_hyper_gama(coor1,coor2,gama):\n",
    "    t=2*coor1[2]*coor2[2]\n",
    "    return arcosh(1+((((coor1[0]-coor2[0])**2)+((coor1[1]-coor2[1])**2))/t)+(((coor1[2]-coor2[2])**2)/t))"
   ]
  },
  {
   "cell_type": "code",
   "execution_count": 90,
   "metadata": {},
   "outputs": [
    {
     "name": "stdout",
     "output_type": "stream",
     "text": [
      "9.104979858417122\n"
     ]
    },
    {
     "data": {
      "text/plain": [
       "6.275312266945166"
      ]
     },
     "execution_count": 90,
     "metadata": {},
     "output_type": "execute_result"
    }
   ],
   "source": [
    "coor1=(1,10,90000)\n",
    "coor2=(5,11,10)\n",
    "print(distance_hyper(coor1,coor2))\n",
    "distance_hyper2(coor1,coor2)"
   ]
  },
  {
   "cell_type": "code",
   "execution_count": 91,
   "metadata": {},
   "outputs": [
    {
     "name": "stdout",
     "output_type": "stream",
     "text": [
      "0.4435682543851153\n"
     ]
    },
    {
     "data": {
      "text/plain": [
       "0.4319977464552794"
      ]
     },
     "execution_count": 91,
     "metadata": {},
     "output_type": "execute_result"
    }
   ],
   "source": [
    "coor1=(1,10,9)\n",
    "coor2=(5,11,10)\n",
    "print(distance_hyper(coor1,coor2))\n",
    "distance_hyper2(coor1,coor2)"
   ]
  },
  {
   "cell_type": "code",
   "execution_count": 93,
   "metadata": {},
   "outputs": [
    {
     "name": "stdout",
     "output_type": "stream",
     "text": [
      "4.714071307629269e-05\n"
     ]
    },
    {
     "data": {
      "text/plain": [
       "4.5891730058413135e-05"
      ]
     },
     "execution_count": 93,
     "metadata": {},
     "output_type": "execute_result"
    }
   ],
   "source": [
    "coor1=(1,10,90000)\n",
    "coor2=(5,11,89999)\n",
    "print(distance_hyper(coor1,coor2))\n",
    "distance_hyper2(coor1,coor2)"
   ]
  },
  {
   "cell_type": "code",
   "execution_count": 94,
   "metadata": {},
   "outputs": [
    {
     "name": "stdout",
     "output_type": "stream",
     "text": [
      "9.105101718770873\n"
     ]
    },
    {
     "data": {
      "text/plain": [
       "1.0083706665594059"
      ]
     },
     "execution_count": 94,
     "metadata": {},
     "output_type": "execute_result"
    }
   ],
   "source": [
    "coor1=(100,1000,90000)\n",
    "coor2=(5,11,10)\n",
    "print(distance_hyper(coor1,coor2))\n",
    "distance_hyper2(coor1,coor2)"
   ]
  },
  {
   "cell_type": "code",
   "execution_count": 99,
   "metadata": {},
   "outputs": [
    {
     "name": "stdout",
     "output_type": "stream",
     "text": [
      "9.302946891896921\n"
     ]
    },
    {
     "data": {
      "text/plain": [
       "9.30294587906175"
      ]
     },
     "execution_count": 99,
     "metadata": {},
     "output_type": "execute_result"
    }
   ],
   "source": [
    "coor1=(100,1000,9)\n",
    "coor2=(5,11,10)\n",
    "print(distance_hyper(coor1,coor2))\n",
    "distance_hyper2(coor1,coor2)"
   ]
  },
  {
   "cell_type": "code",
   "execution_count": 100,
   "metadata": {},
   "outputs": [
    {
     "name": "stdout",
     "output_type": "stream",
     "text": [
      "9.105101718770873\n"
     ]
    },
    {
     "data": {
      "text/plain": [
       "1.0083706665594059"
      ]
     },
     "execution_count": 100,
     "metadata": {},
     "output_type": "execute_result"
    }
   ],
   "source": [
    "coor1=(100,1000,90000)\n",
    "coor2=(5,11,10)\n",
    "print(distance_hyper(coor1,coor2))\n",
    "distance_hyper2(coor1,coor2)"
   ]
  },
  {
   "cell_type": "code",
   "execution_count": null,
   "metadata": {},
   "outputs": [],
   "source": []
  },
  {
   "cell_type": "markdown",
   "metadata": {},
   "source": [
    "# Traitement Données"
   ]
  },
  {
   "cell_type": "code",
   "execution_count": 250,
   "metadata": {},
   "outputs": [],
   "source": [
    "loc_lille=pd.read_csv(\"BS_Locations/Lille_antenna_location2.csv\")\n",
    "loc=pd.read_csv(\"BS_Locations/Lille_antenna_location2.csv\")\n",
    "del(loc['LocInfo'])"
   ]
  },
  {
   "cell_type": "code",
   "execution_count": 216,
   "metadata": {},
   "outputs": [
    {
     "name": "stdout",
     "output_type": "stream",
     "text": [
      "                   CellID           TimeSlot        ByteUp        ByteDn\n",
      "0        0002f81013073f26   2019-03-19 18:10  2.687867e+03  1.829448e+04\n",
      "1        0102f8100065e968   2019-03-19 18:10  5.484555e+03  5.017041e+03\n",
      "2        0102f81000658688   2019-03-19 18:10  2.998657e+05  3.305069e+06\n",
      "3        0102f8100065501b   2019-03-19 18:10  9.605082e+05  4.142277e+06\n",
      "4        0102f8100065d31c   2019-03-19 18:10  1.299698e+06  1.886555e+07\n",
      "...                   ...                ...           ...           ...\n",
      "6580983  8102f8100001435e   2019-06-16 00:00  8.579147e+03  2.112294e+05\n",
      "6580984  8102f81000014389   2019-06-16 00:00  0.000000e+00  0.000000e+00\n",
      "6580985  8102f8100001435c   2019-06-16 00:00  1.802890e+03  6.350155e+04\n",
      "6580986  0102f81000652c54   2019-06-16 00:00  1.358283e+05  7.055754e+03\n",
      "6580987  8102f8100001438a   2019-06-16 00:00  1.979265e+04  5.928641e+05\n",
      "\n",
      "[6580988 rows x 4 columns]\n"
     ]
    }
   ],
   "source": [
    "traffic_lille=pd.read_csv(\"Lille/Lille2.csv\")\n",
    "print(traffic_lille)"
   ]
  },
  {
   "cell_type": "code",
   "execution_count": 245,
   "metadata": {},
   "outputs": [],
   "source": [
    "d={}\n",
    "for t in range(len(traffic_lille)):\n",
    "    id=traffic_lille['CellID'][t]\n",
    "    tm=traffic_lille[' TimeSlot'][t]\n",
    "    if(id in d.keys()):\n",
    "        date=tm[1:11]\n",
    "        heur=tm[12:17]\n",
    "        if(date not in d[id].keys()):\n",
    "            d[id][date]={}\n",
    "        d[id][date][heur]=(traffic_lille[' ByteUp'][t],traffic_lille[' ByteDn'][t])\n",
    "    else:\n",
    "        d[id]={}"
   ]
  },
  {
   "cell_type": "markdown",
   "metadata": {},
   "source": [
    "Enlever les rrh pour lesquel il n y a pas de trafic"
   ]
  },
  {
   "cell_type": "code",
   "execution_count": 343,
   "metadata": {},
   "outputs": [],
   "source": [
    "\"\"\"supp=[]\n",
    "dict_loc_id={}\n",
    "les_X=[]\n",
    "les_Y=[]\n",
    "for i in range(len(loc_lille)):\n",
    "    k=loc_lille['LocInfo'][i]\n",
    "    if(k in d.keys()):\n",
    "        l=(loc_lille[' Coord_X'][i],loc_lille[' Coord_y'][i])\n",
    "        d[k]['loc']=l\n",
    "        if(l not in dict_loc_id.keys()):\n",
    "            dict_loc_id[l]=k\n",
    "            les_X.append(loc_lille[' Coord_X'][i])\n",
    "            les_Y.append(loc_lille[' Coord_y'][i])\n",
    "        else:\n",
    "            supp.append(k)\n",
    "    else:#on supp ceux qui n'ont pas de trafic\n",
    "        supp.append(k)\"\"\"\n",
    "date='2019-03-22'\n",
    "heurQQ='12:00'\n",
    "supp=[]\n",
    "dict_loc_id={}\n",
    "dict_loc_traf={}\n",
    "les_X=[]\n",
    "les_Y=[]\n",
    "for i in range(len(loc_lille)):\n",
    "    k=loc_lille['LocInfo'][i]\n",
    "    if(k in d.keys()):\n",
    "        l=(loc_lille[' Coord_X'][i],loc_lille[' Coord_y'][i])\n",
    "        d[k]['loc']=l\n",
    "        if(l not in dict_loc_id.keys()):\n",
    "            if(date in d[k].keys()):\n",
    "                if(heurQQ in d[k][date].keys()):\n",
    "                    dict_loc_traf[l]=d[k][date][heurQQ][1]\n",
    "                    dict_loc_id[l]=k\n",
    "                    les_X.append(loc_lille[' Coord_X'][i])\n",
    "                    les_Y.append(loc_lille[' Coord_y'][i])\n",
    "        else:\n",
    "            supp.append(k)\n",
    "    else:#on supp ceux qui n'ont pas de trafic\n",
    "        supp.append(k)\n",
    "        "
   ]
  },
  {
   "cell_type": "code",
   "execution_count": 344,
   "metadata": {},
   "outputs": [
    {
     "data": {
      "text/html": [
       "<div>\n",
       "<style scoped>\n",
       "    .dataframe tbody tr th:only-of-type {\n",
       "        vertical-align: middle;\n",
       "    }\n",
       "\n",
       "    .dataframe tbody tr th {\n",
       "        vertical-align: top;\n",
       "    }\n",
       "\n",
       "    .dataframe thead th {\n",
       "        text-align: right;\n",
       "    }\n",
       "</style>\n",
       "<table border=\"1\" class=\"dataframe\">\n",
       "  <thead>\n",
       "    <tr style=\"text-align: right;\">\n",
       "      <th></th>\n",
       "      <th>Coord_X</th>\n",
       "      <th>Coord_y</th>\n",
       "    </tr>\n",
       "  </thead>\n",
       "  <tbody>\n",
       "    <tr>\n",
       "      <td>0</td>\n",
       "      <td>651625</td>\n",
       "      <td>2626995</td>\n",
       "    </tr>\n",
       "    <tr>\n",
       "      <td>1</td>\n",
       "      <td>653420</td>\n",
       "      <td>2625730</td>\n",
       "    </tr>\n",
       "    <tr>\n",
       "      <td>2</td>\n",
       "      <td>650285</td>\n",
       "      <td>2625320</td>\n",
       "    </tr>\n",
       "    <tr>\n",
       "      <td>3</td>\n",
       "      <td>653200</td>\n",
       "      <td>2626680</td>\n",
       "    </tr>\n",
       "    <tr>\n",
       "      <td>4</td>\n",
       "      <td>651170</td>\n",
       "      <td>2626500</td>\n",
       "    </tr>\n",
       "    <tr>\n",
       "      <td>...</td>\n",
       "      <td>...</td>\n",
       "      <td>...</td>\n",
       "    </tr>\n",
       "    <tr>\n",
       "      <td>73</td>\n",
       "      <td>650935</td>\n",
       "      <td>2627960</td>\n",
       "    </tr>\n",
       "    <tr>\n",
       "      <td>74</td>\n",
       "      <td>652300</td>\n",
       "      <td>2627300</td>\n",
       "    </tr>\n",
       "    <tr>\n",
       "      <td>75</td>\n",
       "      <td>651510</td>\n",
       "      <td>2627170</td>\n",
       "    </tr>\n",
       "    <tr>\n",
       "      <td>76</td>\n",
       "      <td>652308</td>\n",
       "      <td>2625601</td>\n",
       "    </tr>\n",
       "    <tr>\n",
       "      <td>77</td>\n",
       "      <td>651304</td>\n",
       "      <td>2627218</td>\n",
       "    </tr>\n",
       "  </tbody>\n",
       "</table>\n",
       "<p>78 rows × 2 columns</p>\n",
       "</div>"
      ],
      "text/plain": [
       "     Coord_X   Coord_y\n",
       "0     651625   2626995\n",
       "1     653420   2625730\n",
       "2     650285   2625320\n",
       "3     653200   2626680\n",
       "4     651170   2626500\n",
       "..       ...       ...\n",
       "73    650935   2627960\n",
       "74    652300   2627300\n",
       "75    651510   2627170\n",
       "76    652308   2625601\n",
       "77    651304   2627218\n",
       "\n",
       "[78 rows x 2 columns]"
      ]
     },
     "execution_count": 344,
     "metadata": {},
     "output_type": "execute_result"
    }
   ],
   "source": [
    "\n",
    "data_ss_double = {' Coord_X': les_X, ' Coord_y': les_Y}\n",
    "data_ss_double = pd.DataFrame(data=data_ss_double)\n",
    "data_ss_double"
   ]
  },
  {
   "cell_type": "code",
   "execution_count": 267,
   "metadata": {},
   "outputs": [
    {
     "data": {
      "text/html": [
       "<div>\n",
       "<style scoped>\n",
       "    .dataframe tbody tr th:only-of-type {\n",
       "        vertical-align: middle;\n",
       "    }\n",
       "\n",
       "    .dataframe tbody tr th {\n",
       "        vertical-align: top;\n",
       "    }\n",
       "\n",
       "    .dataframe thead th {\n",
       "        text-align: right;\n",
       "    }\n",
       "</style>\n",
       "<table border=\"1\" class=\"dataframe\">\n",
       "  <thead>\n",
       "    <tr style=\"text-align: right;\">\n",
       "      <th></th>\n",
       "      <th>Coord_X</th>\n",
       "      <th>Coord_y</th>\n",
       "    </tr>\n",
       "  </thead>\n",
       "  <tbody>\n",
       "    <tr>\n",
       "      <td>0</td>\n",
       "      <td>651625</td>\n",
       "      <td>2626995</td>\n",
       "    </tr>\n",
       "    <tr>\n",
       "      <td>1</td>\n",
       "      <td>652120</td>\n",
       "      <td>2627118</td>\n",
       "    </tr>\n",
       "    <tr>\n",
       "      <td>2</td>\n",
       "      <td>653420</td>\n",
       "      <td>2625730</td>\n",
       "    </tr>\n",
       "    <tr>\n",
       "      <td>3</td>\n",
       "      <td>648111</td>\n",
       "      <td>2624325</td>\n",
       "    </tr>\n",
       "    <tr>\n",
       "      <td>4</td>\n",
       "      <td>650285</td>\n",
       "      <td>2625320</td>\n",
       "    </tr>\n",
       "    <tr>\n",
       "      <td>...</td>\n",
       "      <td>...</td>\n",
       "      <td>...</td>\n",
       "    </tr>\n",
       "    <tr>\n",
       "      <td>1389</td>\n",
       "      <td>648250</td>\n",
       "      <td>2627725</td>\n",
       "    </tr>\n",
       "    <tr>\n",
       "      <td>1390</td>\n",
       "      <td>652584</td>\n",
       "      <td>2626121</td>\n",
       "    </tr>\n",
       "    <tr>\n",
       "      <td>1391</td>\n",
       "      <td>653189</td>\n",
       "      <td>2625159</td>\n",
       "    </tr>\n",
       "    <tr>\n",
       "      <td>1392</td>\n",
       "      <td>651000</td>\n",
       "      <td>2624075</td>\n",
       "    </tr>\n",
       "    <tr>\n",
       "      <td>1393</td>\n",
       "      <td>651280</td>\n",
       "      <td>2627695</td>\n",
       "    </tr>\n",
       "  </tbody>\n",
       "</table>\n",
       "<p>1394 rows × 2 columns</p>\n",
       "</div>"
      ],
      "text/plain": [
       "       Coord_X   Coord_y\n",
       "0       651625   2626995\n",
       "1       652120   2627118\n",
       "2       653420   2625730\n",
       "3       648111   2624325\n",
       "4       650285   2625320\n",
       "...        ...       ...\n",
       "1389    648250   2627725\n",
       "1390    652584   2626121\n",
       "1391    653189   2625159\n",
       "1392    651000   2624075\n",
       "1393    651280   2627695\n",
       "\n",
       "[1394 rows x 2 columns]"
      ]
     },
     "execution_count": 267,
     "metadata": {},
     "output_type": "execute_result"
    }
   ],
   "source": [
    "loc"
   ]
  },
  {
   "cell_type": "code",
   "execution_count": 268,
   "metadata": {},
   "outputs": [
    {
     "name": "stdout",
     "output_type": "stream",
     "text": [
      "[651625, 653420, 650285, 653200, 651170, 651406, 652026, 648111, 649038, 649945, 651098, 651944, 652584, 647676, 648321, 650820, 651551, 651562, 652390, 653371, 652599, 652358, 652476, 649075, 654455, 654173, 650935, 651915, 652545, 651274, 648250, 648834, 654333, 650859, 649293, 650618, 651063, 649540, 649910, 651687, 649883, 650557, 653189, 652130, 652995, 654306, 648100, 651000, 652991, 651276, 651474, 652950, 651088, 652134, 650318, 647802, 650240, 651608, 652120, 653550, 650949, 650518, 653925, 651479, 649520, 652510, 650255, 651280, 650290, 652308, 647760, 651456, 652220, 653717, 650935, 652300, 651510, 652120, 651304]\n"
     ]
    }
   ],
   "source": [
    "print(les_X)"
   ]
  },
  {
   "cell_type": "code",
   "execution_count": 269,
   "metadata": {},
   "outputs": [
    {
     "name": "stdout",
     "output_type": "stream",
     "text": [
      "[2626995, 2625730, 2625320, 2626680, 2626500, 2627092, 2627499, 2624325, 2624599, 2628465, 2628298, 2627126, 2626121, 2624629, 2626961, 2626560, 2626608, 2627093, 2628500, 2627901, 2626161, 2625557, 2627334, 2628175, 2625300, 2626165, 2627068, 2627795, 2626328, 2626780, 2627725, 2626412, 2626507, 2627530, 2627302, 2625539, 2626087, 2626350, 2624150, 2626012, 2625775, 2628274, 2625159, 2626870, 2624140, 2627341, 2625537, 2624075, 2628272, 2625339, 2626770, 2627325, 2627789, 2625843, 2625134, 2624091, 2626930, 2628122, 2625210, 2626470, 2628240, 2624565, 2628200, 2627174, 2625254, 2626740, 2626495, 2627695, 2626640, 2625601, 2626080, 2628543, 2627770, 2627113, 2627960, 2627300, 2627170, 2627118, 2627218]\n"
     ]
    }
   ],
   "source": [
    "print(les_Y)"
   ]
  },
  {
   "cell_type": "code",
   "execution_count": null,
   "metadata": {},
   "outputs": [],
   "source": [
    "\"\"\"def dist_vect2(X,Y,d,dict_loc_id,date,heur):\n",
    "    traficX=d[dict_loc_id[(X[0],X[1])]][date][heur][1]\n",
    "    traficY=d[dict_loc_id[(Y[0],Y[1])]][date][heur][1]\n",
    "    res=distance_hyper((X[0],X[1],traficX),(Y[0],Y[1],traficY))\n",
    "    if(res==0):\n",
    "        return 0\n",
    "    else:\n",
    "        return 1/res\"\"\""
   ]
  },
  {
   "cell_type": "markdown",
   "metadata": {},
   "source": [
    "pas de trafic pour 604 rrh"
   ]
  },
  {
   "cell_type": "code",
   "execution_count": 609,
   "metadata": {},
   "outputs": [],
   "source": [
    "def distance_Euclidienne(X,Y):\n",
    "    return math.sqrt(sum((X-Y)**2))\n",
    "\n",
    "def find_gamma(df,dict_loc_traf):\n",
    "    l=np.array(list(dict_loc_traf.values()))\n",
    "    minimum=min(l**2)\n",
    "    maximum=max(l**2)\n",
    "    dist=0\n",
    "    distmin=10000000000\n",
    "    traite=[]\n",
    "    for row in df.iterrows():\n",
    "        X=[row[1][' Coord_X'],row[1][' Coord_y']]  \n",
    "        traite.append(X)\n",
    "        for row2 in df.iterrows():\n",
    "            Y=[row2[1][' Coord_X'],row2[1][' Coord_y']]\n",
    "            if(Y not in traite):\n",
    "                dist=distance_Euclidienne(np.array(X),np.array(Y))\n",
    "                if(dist<distmin):\n",
    "                    distmin=dist\n",
    "    \n",
    "    return(maximum-minimum)/distmin"
   ]
  },
  {
   "cell_type": "code",
   "execution_count": 610,
   "metadata": {},
   "outputs": [
    {
     "data": {
      "text/plain": [
       "1.973955140198831e+16"
      ]
     },
     "execution_count": 610,
     "metadata": {},
     "output_type": "execute_result"
    }
   ],
   "source": [
    "find_gamma(data_ss_double,dict_loc_traf)"
   ]
  },
  {
   "cell_type": "markdown",
   "metadata": {},
   "source": [
    "# K-means-hyperbolique"
   ]
  },
  {
   "cell_type": "code",
   "execution_count": 285,
   "metadata": {},
   "outputs": [],
   "source": [
    "def normalisation(df):\n",
    "    col=df.columns\n",
    "    result={}\n",
    "    colonne= df[col[0]]  ############################\n",
    "    id_per_raw={}\n",
    "    for j in range(len(colonne)):\n",
    "        id_per_raw[j]=colonne[j] ############################\n",
    "    for i in range(1,len(col)):\n",
    "        colonne= df[col[i]].astype(float)\n",
    "        result[col[i]]=[]\n",
    "        max_X=max(colonne)\n",
    "        min_X=min(colonne)\n",
    "        for j in range(len(colonne)):\n",
    "            x=colonne[j]\n",
    "            if((max_X-min_X)!=0):\n",
    "                result[col[i]].append(float((x-min_X)/(max_X-min_X)))\n",
    "    #print(result)\n",
    "    d=pd.DataFrame (result, columns =[' Coord_X',' Coord_y'])\n",
    "    return d"
   ]
  },
  {
   "cell_type": "code",
   "execution_count": 487,
   "metadata": {},
   "outputs": [
    {
     "data": {
      "text/plain": [
       "'def dist_vect2(X,Y,dict_loc_traf):\\n    traficX=0\\n    traficY=0\\n    if((X[0],X[1]) in dict_loc_traf.keys()):\\n        traficX=dict_loc_traf[(X[0],X[1])]\\n    if((Y[0],Y[1]) in dict_loc_traf.keys()):    \\n        traficY=dict_loc_traf[(Y[0],Y[1])]\\n    res=distance_hyper((X[0],X[1],traficX),(Y[0],Y[1],traficY))\\n    \\n    if(res==0):\\n        return 0\\n    else:\\n        return 1/res'"
      ]
     },
     "execution_count": 487,
     "metadata": {},
     "output_type": "execute_result"
    }
   ],
   "source": [
    "def dist_vect(X,Y):\n",
    "    return math.sqrt(sum((X-Y)**2))\n",
    "\"\"\"def dist_vect2(X,Y,dict_loc_traf):\n",
    "    traficX=0\n",
    "    traficY=0\n",
    "    if((X[0],X[1]) in dict_loc_traf.keys()):\n",
    "        traficX=dict_loc_traf[(X[0],X[1])]\n",
    "    if((Y[0],Y[1]) in dict_loc_traf.keys()):    \n",
    "        traficY=dict_loc_traf[(Y[0],Y[1])]\n",
    "    res=distance_hyper((X[0],X[1],traficX),(Y[0],Y[1],traficY))\n",
    "    \n",
    "    if(res==0):\n",
    "        return 0\n",
    "    else:\n",
    "        return 1/res\"\"\""
   ]
  },
  {
   "cell_type": "code",
   "execution_count": 340,
   "metadata": {},
   "outputs": [],
   "source": [
    "def centroide (df):  \n",
    "    if(isinstance(df.iloc[0],float)):\n",
    "        return df \n",
    "    else:\n",
    "        return df.mean(axis = 0)"
   ]
  },
  {
   "cell_type": "code",
   "execution_count": 803,
   "metadata": {},
   "outputs": [],
   "source": [
    "\"\"\"def distance_hyper_gama(coor1,coor2,gama):  \n",
    "    return distance_Euclidienne(np.array([coor1[0],coor1[1]]),np.array([coor2[0],coor2[1]]))\"\"\"\n",
    "\"\"\"def inertie_cluster(df):\n",
    "    c=centroide(df)\n",
    "    som=0\n",
    "    for i in range(len(df)):\n",
    "        x=df.iloc[i]\n",
    "        som+=dist_vect(x,c)**2\n",
    "    return som\"\"\"\n",
    "def distance_hyper_gama(coor1,coor2,gama):\n",
    "    t=2*coor1[2]*coor2[2]\n",
    "    d=(((coor1[0]-coor2[0])**2)+((coor1[1]-coor2[1])**2))   \n",
    "    comp=(coor1[2]-coor2[2])**2\n",
    "    return (d+1)/(np.abs((coor1[2]-coor2[2]))+1)\n",
    "\"\"\"def distance_hyper_gama(coor1,coor2,gama):\n",
    "    t=2*coor1[2]*coor2[2]\n",
    "    d=(((coor1[0]-coor2[0])**2)+((coor1[1]-coor2[1])**2)) \n",
    "    return arcosh((gama*(d/t))+(0.5*((coor1[2]/coor2[2])+(coor2[2]/coor1[2]))))\"\"\"\n",
    "    \n",
    "def dist_vect2(X,Y,dict_loc_traf,gama):\n",
    "    traficX=0\n",
    "    traficY=0\n",
    "    if((X[0],X[1]) in dict_loc_traf.keys()):\n",
    "        traficX=dict_loc_traf[(X[0],X[1])]\n",
    "    if((Y[0],Y[1]) in dict_loc_traf.keys()):    \n",
    "        traficY=dict_loc_traf[(Y[0],Y[1])]\n",
    "    res=distance_hyper_gama((X[0],X[1],traficX),(Y[0],Y[1],traficY),gama)\n",
    "    \n",
    "    \"\"\"if(res==0):\n",
    "        return 0\n",
    "    else:\n",
    "        return 1/res\"\"\"\n",
    "    return res\n",
    "\n",
    "def inertie_cluster_max(df,dict_loc_traf,gama):# Je prends les min des max j'ai essayé les min des min le resultat est trés mauvais \n",
    "    inertie=0\n",
    "    max_inertie=0\n",
    "    for row in df.iterrows():\n",
    "        X=(row[1][' Coord_X'],row[1][' Coord_y'])   \n",
    "        for row2 in df.iterrows():\n",
    "            Y=(row2[1][' Coord_X'],row2[1][' Coord_y'])\n",
    "            inertie=dist_vect2(X,Y,dict_loc_traf,gama)\n",
    "            if(inertie>max_inertie):\n",
    "                max_inertie=inertie\n",
    "    return max_inertie\n",
    "def inertie_cluster_min(df,dict_loc_traf,gama):\n",
    "    inertie=100000000000\n",
    "    traite=[]\n",
    "    min_inertie=100000000000\n",
    "    for row in df.iterrows():\n",
    "        X=(row[1][' Coord_X'],row[1][' Coord_y'])   \n",
    "        traite.append(X)\n",
    "        for row2 in df.iterrows():\n",
    "            Y=(row2[1][' Coord_X'],row2[1][' Coord_y'])\n",
    "            if(Y not in traite):\n",
    "                inertie=dist_vect2(X,Y,dict_loc_traf,gama) \n",
    "                if(inertie<min_inertie):\n",
    "                    min_inertie=inertie\n",
    "    return min_inertie\n",
    "def inertie_cluster_sum(df,dict_loc_traf,gama):\n",
    "    inertie=0\n",
    "    traite=[]\n",
    "    for row in df.iterrows():\n",
    "        X=(row[1][' Coord_X'],row[1][' Coord_y'])  \n",
    "        traite.append(X)\n",
    "        for row2 in df.iterrows():\n",
    "            Y=(row2[1][' Coord_X'],row2[1][' Coord_y'])\n",
    "            if(Y not in traite):\n",
    "                inertie+=dist_vect2(X,Y,dict_loc_traf,gama)            \n",
    "    return inertie\n",
    "def inertie_cluster_moy(df,dict_loc_traf,gama):\n",
    "    inertie=0\n",
    "    traite=[]\n",
    "    long=0\n",
    "    for row in df.iterrows():\n",
    "        X=(row[1][' Coord_X'],row[1][' Coord_y'])  \n",
    "        traite.append(X)\n",
    "        for row2 in df.iterrows():\n",
    "            Y=(row2[1][' Coord_X'],row2[1][' Coord_y'])\n",
    "            if(Y not in traite):\n",
    "                inertie+=dist_vect2(X,Y,dict_loc_traf,gama) \n",
    "                long+=1\n",
    "    return inertie/long"
   ]
  },
  {
   "cell_type": "code",
   "execution_count": 408,
   "metadata": {},
   "outputs": [],
   "source": [
    "import random\n",
    "\"\"\"def initialisation(K,df): \n",
    "    m=[]    \n",
    "    l=list(df.index.values)\n",
    "    while(len(m)<K):\n",
    "        i=random.choice(l)\n",
    "        m.append(df.loc[i])\n",
    "        l.remove(i)\n",
    "    return pd.DataFrame(m)\"\"\"\n",
    "\n",
    "def initialisation(K,df): \n",
    "    df_C={}\n",
    "    l=list(df.index.values)\n",
    "    for i in l:\n",
    "        rrh=df.loc[i]\n",
    "        j=random.randint(0,K-1)\n",
    "        if(j not in df_C.keys()):\n",
    "            df_C[j]=[]\n",
    "        df_C[j].append(rrh)\n",
    "    for i in range(K):  \n",
    "        df_C[i]=pd.DataFrame(df_C[i])\n",
    "    return df_C"
   ]
  },
  {
   "cell_type": "code",
   "execution_count": 730,
   "metadata": {},
   "outputs": [],
   "source": [
    "init=initialisation(3,data_ss_double)"
   ]
  },
  {
   "cell_type": "code",
   "execution_count": 731,
   "metadata": {},
   "outputs": [
    {
     "data": {
      "text/plain": [
       "{2:      Coord_X   Coord_y\n",
       " 0     651625   2626995\n",
       " 1     653420   2625730\n",
       " 4     651170   2626500\n",
       " 9     649945   2628465\n",
       " 11    651944   2627126\n",
       " 14    648321   2626961\n",
       " 16    651562   2627093\n",
       " 18    653371   2627901\n",
       " 20    652358   2625557\n",
       " 28    651274   2626780\n",
       " 30    648834   2626412\n",
       " 34    650618   2625539\n",
       " 36    649540   2626350\n",
       " 39    650557   2628274\n",
       " 43    651687   2626012\n",
       " 44    654306   2627341\n",
       " 48    651276   2625339\n",
       " 49    651474   2626770\n",
       " 56    651608   2628122\n",
       " 61    653925   2628200\n",
       " 71    652220   2627770, 0:      Coord_X   Coord_y\n",
       " 2     650285   2625320\n",
       " 3     653200   2626680\n",
       " 5     651406   2627092\n",
       " 7     648111   2624325\n",
       " 8     649038   2624599\n",
       " 12    652584   2626121\n",
       " 17    652390   2628500\n",
       " 19    652599   2626161\n",
       " 21    652476   2627334\n",
       " 22    649075   2628175\n",
       " 23    654455   2625300\n",
       " 24    654173   2626165\n",
       " 27    652545   2626328\n",
       " 31    654333   2626507\n",
       " 33    649293   2627302\n",
       " 51    651088   2627789\n",
       " 52    652134   2625843\n",
       " 54    647802   2624091\n",
       " 59    653550   2626470\n",
       " 60    650949   2628240\n",
       " 65    650255   2626495\n",
       " 66    651280   2627695\n",
       " 67    650518   2624565\n",
       " 69    647760   2626080\n",
       " 70    651456   2628543\n",
       " 72    653717   2627113\n",
       " 73    650935   2627960\n",
       " 77    651304   2627218, 1:      Coord_X   Coord_y\n",
       " 6     652026   2627499\n",
       " 10    651098   2628298\n",
       " 13    647676   2624629\n",
       " 15    651551   2626608\n",
       " 25    650935   2627068\n",
       " 26    651915   2627795\n",
       " 29    648250   2627725\n",
       " 32    650859   2627530\n",
       " 35    651063   2626087\n",
       " 37    649910   2624150\n",
       " 38    649883   2625775\n",
       " 40    653189   2625159\n",
       " 41    652130   2626870\n",
       " 42    652995   2624140\n",
       " 45    648100   2625537\n",
       " 46    651000   2624075\n",
       " 47    652991   2628272\n",
       " 50    652950   2627325\n",
       " 53    650318   2625134\n",
       " 55    650240   2626930\n",
       " 57    652120   2625210\n",
       " 58    650820   2626560\n",
       " 62    651479   2627174\n",
       " 63    649520   2625254\n",
       " 64    652510   2626740\n",
       " 68    650290   2626640\n",
       " 74    652300   2627300\n",
       " 75    651510   2627170\n",
       " 76    652308   2625601}"
      ]
     },
     "execution_count": 731,
     "metadata": {},
     "output_type": "execute_result"
    }
   ],
   "source": [
    "initialisation(3,data_ss_double)"
   ]
  },
  {
   "cell_type": "code",
   "execution_count": 740,
   "metadata": {},
   "outputs": [],
   "source": [
    "\"\"\"def plus_proche(x,df_C,gama):#df_C est un dictionnaire des collection\n",
    "    dis=0\n",
    "    centre=None\n",
    "    distmin=1000000000\n",
    "    distmax=0\n",
    "    for i in df_C.keys():\n",
    "        distmax=0\n",
    "        dis=0\n",
    "        df_i=df_C[i]\n",
    "        #les_rrhs=df_C.iloc[i] #les locs des rrhs du cluster\n",
    "        for j in range(len(df_i)):\n",
    "            rrh=df_i.iloc[j]\n",
    "            dist=dist_vect2(x,rrh,dict_loc_traf,gama)\n",
    "            if(dist>distmax):\n",
    "                distmax=dist\n",
    "                centre=i\n",
    "        if(distmin>distmax):\n",
    "            distmin=distmax\n",
    "            centremin=centre\n",
    "    return centremin \"\"\"\n",
    "def plus_proche(x,df_C,gama):#df_C est un dictionnaire des collection\n",
    "    dist=0\n",
    "    centre=None\n",
    "    distmin=1000000000\n",
    "    distmax=0\n",
    "    for i in df_C.keys():\n",
    "        distmax=0\n",
    "        long=0\n",
    "        dist=0\n",
    "        df_i=df_C[i]\n",
    "        #les_rrhs=df_C.iloc[i] #les locs des rrhs du cluster\n",
    "        for j in range(len(df_i)):\n",
    "            rrh=df_i.iloc[j]\n",
    "            long+=1\n",
    "            dist+=dist_vect2(x,rrh,dict_loc_traf,gama)\n",
    "        dist/=long\n",
    "        if(distmin>dist):\n",
    "            distmin=dist\n",
    "            centremin=i\n",
    "    return centremin "
   ]
  },
  {
   "cell_type": "code",
   "execution_count": 741,
   "metadata": {},
   "outputs": [
    {
     "name": "stdout",
     "output_type": "stream",
     "text": [
      "0\n"
     ]
    }
   ],
   "source": [
    "testtest={0:data_ss_double.iloc[1:20,:],1:data_ss_double.iloc[20:,:]}\n",
    "print(plus_proche((651625,2626995),testtest,1))"
   ]
  },
  {
   "cell_type": "code",
   "execution_count": 744,
   "metadata": {},
   "outputs": [],
   "source": [
    "def affecte_cluster(df_app, df_C,gama):\n",
    "    d={}\n",
    "    l=df_app.index.values\n",
    "    for i in l:\n",
    "        x=df_app.loc[i]\n",
    "        c= plus_proche(x,df_C,gama)\n",
    "        if(not c in d.keys()):\n",
    "            d[c]=[]\n",
    "        d[c].append(i)\n",
    "    return d"
   ]
  },
  {
   "cell_type": "code",
   "execution_count": 746,
   "metadata": {},
   "outputs": [
    {
     "data": {
      "text/plain": [
       "{0: [0,\n",
       "  1,\n",
       "  3,\n",
       "  4,\n",
       "  5,\n",
       "  6,\n",
       "  7,\n",
       "  8,\n",
       "  9,\n",
       "  10,\n",
       "  11,\n",
       "  12,\n",
       "  14,\n",
       "  15,\n",
       "  16,\n",
       "  17,\n",
       "  18,\n",
       "  19,\n",
       "  20,\n",
       "  21,\n",
       "  22,\n",
       "  23,\n",
       "  24,\n",
       "  25,\n",
       "  26,\n",
       "  27,\n",
       "  28,\n",
       "  29,\n",
       "  30,\n",
       "  32,\n",
       "  33,\n",
       "  34,\n",
       "  36,\n",
       "  37,\n",
       "  38,\n",
       "  40,\n",
       "  41,\n",
       "  42,\n",
       "  43,\n",
       "  45,\n",
       "  46,\n",
       "  47,\n",
       "  48,\n",
       "  49,\n",
       "  50,\n",
       "  51,\n",
       "  52,\n",
       "  53,\n",
       "  54,\n",
       "  55,\n",
       "  56,\n",
       "  57,\n",
       "  58,\n",
       "  59,\n",
       "  60,\n",
       "  61,\n",
       "  62,\n",
       "  63,\n",
       "  65,\n",
       "  66,\n",
       "  68,\n",
       "  69,\n",
       "  70,\n",
       "  73,\n",
       "  77],\n",
       " 1: [2, 13, 31, 35, 44, 64, 67, 71, 72],\n",
       " 2: [39, 74, 75, 76]}"
      ]
     },
     "execution_count": 746,
     "metadata": {},
     "output_type": "execute_result"
    }
   ],
   "source": [
    "new_cluster=affecte_cluster(data_ss_double, init,1)\n",
    "new_cluster"
   ]
  },
  {
   "cell_type": "code",
   "execution_count": 696,
   "metadata": {},
   "outputs": [],
   "source": [
    "\"\"\"def nouveaux_centroides(df_app,d):\n",
    "    m=[]\n",
    "    for l in d.values():\n",
    "        X=[]\n",
    "        for i in l:\n",
    "            X.append(df_app.loc[i])\n",
    "        m.append(centroide(pd.DataFrame(X)))   \n",
    "    return pd.DataFrame(m)\"\"\"\n",
    "def nouveaux_centroides(df_app,d):# Dans notre cas c'est les nouvelles partitions\n",
    "    df_C={}\n",
    "    for i in d.keys():\n",
    "        m=[]\n",
    "        ids=d[i]\n",
    "        for j in ids:\n",
    "            m.append(df_app.loc[j])\n",
    "        df_C[i]=pd.DataFrame(m)      \n",
    "    return df_C"
   ]
  },
  {
   "cell_type": "code",
   "execution_count": 685,
   "metadata": {},
   "outputs": [
    {
     "data": {
      "text/plain": [
       "dict_keys([1])"
      ]
     },
     "execution_count": 685,
     "metadata": {},
     "output_type": "execute_result"
    }
   ],
   "source": [
    "nc=nouveaux_centroides(data_ss_double,new_cluster)\n",
    "nc.keys()"
   ]
  },
  {
   "cell_type": "code",
   "execution_count": 713,
   "metadata": {},
   "outputs": [],
   "source": [
    "def inertie_globale(df_app,d,gama):\n",
    "    sum=0\n",
    "    new_C=nouveaux_centroides(df_app,d)\n",
    "    for i in new_C.keys():\n",
    "        sum+=inertie_cluster_sum(new_C[i],dict_loc_traf,gama)\n",
    "    return sum  "
   ]
  },
  {
   "cell_type": "code",
   "execution_count": 660,
   "metadata": {},
   "outputs": [
    {
     "data": {
      "text/plain": [
       "364.0244952217656"
      ]
     },
     "execution_count": 660,
     "metadata": {},
     "output_type": "execute_result"
    }
   ],
   "source": [
    "inertie_globale(data_ss_double,new_cluster,1)"
   ]
  },
  {
   "cell_type": "code",
   "execution_count": 767,
   "metadata": {},
   "outputs": [],
   "source": [
    "def kmoyennes(K,df_app,eps,iter_max,gama):\n",
    "    i=0\n",
    "    fin=False\n",
    "    partition=initialisation(K,df_app)\n",
    "    dic=affecte_cluster(df_app, partition,gama)\n",
    "    inertie=inertie_globale(df_app,dic,gama)\n",
    "    \n",
    "    while(i<iter_max and fin==False):\n",
    "        print(i)\n",
    "        partition=nouveaux_centroides(df_app,dic)\n",
    "        dic=affecte_cluster(df_app, partition,gama)\n",
    "        inertie_suiv=inertie_globale(df_app,dic,gama)\n",
    "        if(abs(inertie_suiv-inertie) < eps):\n",
    "            fin=True\n",
    "        i+=1\n",
    "        inertie=inertie_suiv\n",
    "    return partition,dic"
   ]
  },
  {
   "cell_type": "code",
   "execution_count": 554,
   "metadata": {},
   "outputs": [],
   "source": [
    "\"\"\"def affiche_resultat(DataFnorm,les_centres,l_affectation):\n",
    "    plt.scatter(les_centres[' Coord_X'],les_centres[' Coord_y'],color='r',marker='x')\n",
    "    c=[]\n",
    "    for l in l_affectation.values():\n",
    "        X=[]\n",
    "        for i in l:\n",
    "            X.append(DataFnorm.loc[i])\n",
    "        plt.scatter(pd.DataFrame(X)[' Coord_X'],pd.DataFrame(X)[' Coord_y'])\"\"\"\n",
    "\n",
    "def affiche_resultat(DataFnorm,les_centres,l_affectation):\n",
    "    #plt.scatter(les_centres[' Coord_X'],les_centres[' Coord_y'],color='r',marker='x')\n",
    "    c=[]\n",
    "    for l in l_affectation.values():\n",
    "        X=[]\n",
    "        for i in l:\n",
    "            X.append(DataFnorm.loc[i])\n",
    "        plt.scatter(pd.DataFrame(X)[' Coord_X'],pd.DataFrame(X)[' Coord_y'])"
   ]
  },
  {
   "cell_type": "code",
   "execution_count": 798,
   "metadata": {},
   "outputs": [],
   "source": [
    "import numpy as np\n",
    "import matplotlib.pyplot as plt\n",
    "from scipy.spatial import Voronoi, voronoi_plot_2d,ConvexHull\n",
    "import matplotlib as mpl\n",
    "from matplotlib import cm\n",
    "def voronoi_finite_polygons_2d(vor, radius=None):\n",
    "    \"\"\"\n",
    "    Reconstruct infinite voronoi regions in a 2D diagram to finite\n",
    "    regions.\n",
    "\n",
    "    Parameters\n",
    "    ----------\n",
    "    vor : Voronoi\n",
    "        Input diagram\n",
    "    radius : float, optional\n",
    "        Distance to 'points at infinity'.\n",
    "\n",
    "    Returns\n",
    "    -------\n",
    "    regions : list of tuples\n",
    "        Indices of vertices in each revised Voronoi regions.\n",
    "    vertices : list of tuples\n",
    "        Coordinates for revised Voronoi vertices. Same as coordinates\n",
    "        of input vertices, with 'points at infinity' appended to the\n",
    "        end.\n",
    "\n",
    "    \"\"\"\n",
    "\n",
    "    if vor.points.shape[1] != 2:\n",
    "        raise ValueError(\"Requires 2D input\")\n",
    "\n",
    "    new_regions = []\n",
    "    new_vertices = vor.vertices.tolist()\n",
    "\n",
    "    center = vor.points.mean(axis=0)\n",
    "    if radius is None:\n",
    "        radius = vor.points.ptp().max()\n",
    "\n",
    "    # Construct a map containing all ridges for a given point\n",
    "    all_ridges = {}\n",
    "    for (p1, p2), (v1, v2) in zip(vor.ridge_points, vor.ridge_vertices):\n",
    "        all_ridges.setdefault(p1, []).append((p2, v1, v2))\n",
    "        all_ridges.setdefault(p2, []).append((p1, v1, v2))\n",
    "\n",
    "    # Reconstruct infinite regions\n",
    "    for p1, region in enumerate(vor.point_region):\n",
    "        vertices = vor.regions[region]\n",
    "\n",
    "        if all(v >= 0 for v in vertices):\n",
    "            # finite region\n",
    "            new_regions.append(vertices)\n",
    "            continue\n",
    "\n",
    "        # reconstruct a non-finite region\n",
    "        ridges = all_ridges[p1]\n",
    "        new_region = [v for v in vertices if v >= 0]\n",
    "\n",
    "        for p2, v1, v2 in ridges:\n",
    "            if v2 < 0:\n",
    "                v1, v2 = v2, v1\n",
    "            if v1 >= 0:\n",
    "                # finite ridge: already in the region\n",
    "                continue\n",
    "\n",
    "            # Compute the missing endpoint of an infinite ridge\n",
    "\n",
    "            t = vor.points[p2] - vor.points[p1] # tangent\n",
    "            t /= np.linalg.norm(t)\n",
    "            n = np.array([-t[1], t[0]])  # normal\n",
    "\n",
    "            midpoint = vor.points[[p1, p2]].mean(axis=0)\n",
    "            direction = np.sign(np.dot(midpoint - center, n)) * n\n",
    "            far_point = vor.vertices[v2] + direction * radius\n",
    "\n",
    "            new_region.append(len(new_vertices))\n",
    "            new_vertices.append(far_point.tolist())\n",
    "\n",
    "        # sort region counterclockwise\n",
    "        vs = np.asarray([new_vertices[v] for v in new_region])\n",
    "        c = vs.mean(axis=0)\n",
    "        angles = np.arctan2(vs[:,1] - c[1], vs[:,0] - c[0])\n",
    "        new_region = np.array(new_region)[np.argsort(angles)]\n",
    "\n",
    "        # finish\n",
    "        new_regions.append(new_region.tolist())\n",
    "\n",
    "    return new_regions, np.asarray(new_vertices)\n",
    "def affichage_vor(df,l,minima,maxima,cap ):\n",
    "    X = []\n",
    "    speed=[]\n",
    "    cpt=0\n",
    "    points=[]\n",
    "    coordX=[]\n",
    "    coordY=[]\n",
    "    for i in l.keys():\n",
    "        for j in l[i]:\n",
    "            speed.append(i)\n",
    "            x=df.iloc[j]\n",
    "            points.append([x[0],x[1]])\n",
    "            coordX.append(x[0])\n",
    "            coordY.append(x[1])\n",
    "    # make up data points\n",
    "    points=np.array(points)\n",
    "    # find min/max values for normalization\n",
    "    #minima = min(min(y_bd),min(y_bu))\n",
    "    #maxima = max(max(y_bd),max(y_bu))\n",
    "\n",
    "    # normalize chosen colormap\n",
    "    norm = mpl.colors.Normalize(vmin=minima, vmax=maxima, clip=True)\n",
    "    mapper = cm.ScalarMappable(norm=norm, cmap=cm.twilight_shifted)\n",
    "\n",
    "\n",
    "\n",
    "    # compute Voronoi tesselation\n",
    "    vor = Voronoi(points)\n",
    "    fig=voronoi_plot_2d(vor, show_points=True, show_vertices=False, s=1)\n",
    "\n",
    "    # plot\n",
    "    regions, vertices = voronoi_finite_polygons_2d(vor)\n",
    "\n",
    "\n",
    "\n",
    "    # colorize\n",
    "    r=0\n",
    "    for region in regions:\n",
    "        polygon = vertices[region]\n",
    "        plt.fill(*zip(*polygon),color=mapper.to_rgba(speed[r])) \n",
    "        r+=1\n",
    "\n",
    "    \"\"\"for r in range(len(vor.point_region)):\n",
    "        region = vor.regions[vor.point_region[r]]\n",
    "        #if not -1 in region:\n",
    "        polygon = [vor.vertices[i] for i in region]\n",
    "        plt.fill(*zip(*polygon), color=mapper.to_rgba(speed[r])) \"\"\"\n",
    "\n",
    "    plt.plot(coordX, coordY, 'ko',markersize=1)\n",
    "    plt.xlim(vor.min_bound[0] - 0.1, vor.max_bound[0] + 0.1)\n",
    "    plt.ylim(vor.min_bound[1] - 0.1, vor.max_bound[1] + 0.1)\n",
    "    #fig.tight_layout(rect=[0, 0, 0.85, 0.95])\n",
    "    #ax_cb = fig.add_axes([0.85, 0.10, 0.05, 0.8])\n",
    "    #cb = mpl.colorbar.ColorbarBase(ax_cb, cmap=cm.copper_r,norm=norm, orientation='vertical')\n",
    "    fig.suptitle(cap, fontsize=10)\n",
    "    plt.show()\n",
    "    plt.show()"
   ]
  },
  {
   "cell_type": "markdown",
   "metadata": {},
   "source": [
    "## Test k-means"
   ]
  },
  {
   "cell_type": "code",
   "execution_count": 754,
   "metadata": {},
   "outputs": [
    {
     "data": {
      "image/png": "[encoded data removed]",
      "text/plain": [
       "<Figure size 432x288 with 1 Axes>"
      ]
     },
     "metadata": {
      "needs_background": "light"
     },
     "output_type": "display_data"
    }
   ],
   "source": [
    "les_centres, l_affectation = kmoyennes(10, data_ss_double, 0.05, 10,0.5*exp(16))\n",
    "affiche_resultat(data_ss_double,les_centres,l_affectation)"
   ]
  },
  {
   "cell_type": "code",
   "execution_count": 804,
   "metadata": {},
   "outputs": [
    {
     "name": "stdout",
     "output_type": "stream",
     "text": [
      "0\n",
      "1\n",
      "2\n",
      "3\n",
      "4\n",
      "5\n",
      "6\n",
      "7\n",
      "8\n",
      "9\n",
      "10\n",
      "11\n",
      "12\n",
      "13\n",
      "14\n",
      "15\n",
      "16\n",
      "17\n",
      "18\n",
      "19\n",
      "20\n",
      "21\n",
      "22\n",
      "23\n",
      "24\n",
      "25\n",
      "26\n",
      "27\n",
      "28\n",
      "29\n",
      "30\n",
      "31\n",
      "32\n",
      "33\n",
      "34\n",
      "35\n",
      "36\n",
      "37\n",
      "38\n",
      "39\n",
      "40\n",
      "41\n",
      "42\n",
      "43\n",
      "44\n",
      "45\n",
      "46\n",
      "47\n",
      "48\n",
      "49\n",
      "50\n",
      "51\n",
      "52\n",
      "53\n",
      "54\n",
      "55\n",
      "56\n",
      "57\n",
      "58\n",
      "59\n",
      "60\n",
      "61\n",
      "62\n",
      "63\n",
      "64\n",
      "65\n",
      "66\n",
      "67\n",
      "68\n",
      "69\n",
      "70\n",
      "71\n",
      "72\n",
      "73\n",
      "74\n",
      "75\n",
      "76\n",
      "77\n",
      "78\n",
      "79\n",
      "80\n",
      "81\n",
      "82\n",
      "83\n",
      "84\n",
      "85\n",
      "86\n",
      "87\n",
      "88\n",
      "89\n",
      "90\n",
      "91\n",
      "92\n",
      "93\n",
      "94\n",
      "95\n",
      "96\n",
      "97\n",
      "98\n",
      "99\n"
     ]
    },
    {
     "data": {
      "image/png": "[encoded data removed]",
      "text/plain": [
       "<Figure size 432x288 with 1 Axes>"
      ]
     },
     "metadata": {
      "needs_background": "light"
     },
     "output_type": "display_data"
    }
   ],
   "source": [
    "#avec d/comp\n",
    "gamma=2*exp(16)\n",
    "les_centres, l_affectation = kmoyennes(10, data_ss_double, 0.05, 100,gamma)\n",
    "affiche_resultat(data_ss_double,les_centres,l_affectation)"
   ]
  },
  {
   "cell_type": "code",
   "execution_count": 805,
   "metadata": {},
   "outputs": [
    {
     "data": {
      "image/png": "[encoded data removed]",
      "text/plain": [
       "<Figure size 432x288 with 1 Axes>"
      ]
     },
     "metadata": {
      "needs_background": "light"
     },
     "output_type": "display_data"
    }
   ],
   "source": [
    "\n",
    "affichage_vor(data_ss_double,l_affectation,0,10,\"K-means pour Lille, K=10\")"
   ]
  },
  {
   "cell_type": "code",
   "execution_count": 801,
   "metadata": {},
   "outputs": [
    {
     "name": "stdout",
     "output_type": "stream",
     "text": [
      "0\n",
      "1\n",
      "2\n",
      "3\n",
      "4\n",
      "5\n",
      "6\n",
      "7\n",
      "8\n",
      "9\n",
      "10\n",
      "11\n",
      "12\n"
     ]
    },
    {
     "data": {
      "image/png": "[encoded data removed]",
      "text/plain": [
       "<Figure size 432x288 with 1 Axes>"
      ]
     },
     "metadata": {
      "needs_background": "light"
     },
     "output_type": "display_data"
    }
   ],
   "source": [
    "#avec dist gama\n",
    "gamma=0.5*exp(16)\n",
    "les_centres, l_affectation = kmoyennes(10, data_ss_double, 0.05, 100,gamma)\n",
    "affiche_resultat(data_ss_double,les_centres,l_affectation)"
   ]
  },
  {
   "cell_type": "code",
   "execution_count": 802,
   "metadata": {},
   "outputs": [
    {
     "data": {
      "image/png": "[encoded data removed]",
      "text/plain": [
       "<Figure size 432x288 with 1 Axes>"
      ]
     },
     "metadata": {
      "needs_background": "light"
     },
     "output_type": "display_data"
    }
   ],
   "source": [
    "#avec dist gamma=0.5*exp(16)\n",
    "affichage_vor(data_ss_double,l_affectation,0,10,\"K-means pour Lille, K=10\")"
   ]
  },
  {
   "cell_type": "code",
   "execution_count": null,
   "metadata": {},
   "outputs": [],
   "source": []
  },
  {
   "cell_type": "code",
   "execution_count": null,
   "metadata": {},
   "outputs": [],
   "source": []
  }
 ],
 "metadata": {
  "kernelspec": {
   "display_name": "Python 3",
   "language": "python",
   "name": "python3"
  },
  "language_info": {
   "codemirror_mode": {
    "name": "ipython",
    "version": 3
   },
   "file_extension": ".py",
   "mimetype": "text/x-python",
   "name": "python",
   "nbconvert_exporter": "python",
   "pygments_lexer": "ipython3",
   "version": "3.6.9"
  }
 },
 "nbformat": 4,
 "nbformat_minor": 2
}
